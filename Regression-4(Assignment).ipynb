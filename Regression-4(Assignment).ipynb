{
 "cells": [
  {
   "cell_type": "markdown",
   "id": "404ac79e-383a-4e82-b20a-16c51ae191f8",
   "metadata": {},
   "source": [
    "# Regression-4 Assignment"
   ]
  },
  {
   "cell_type": "markdown",
   "id": "0cd2f44d-97b5-474e-a411-6d11538b2525",
   "metadata": {},
   "source": [
    "# Q1. What is Lasso Regression, and how does it differ from other regression techniques?"
   ]
  },
  {
   "cell_type": "markdown",
   "id": "f6c20e43-fe74-47f1-97e9-dc120f28a86b",
   "metadata": {},
   "source": [
    "# Answer-1-Lasso Regression, short for Least Absolute Shrinkage and Selection Operator, is a linear regression technique that incorporates L1 regularization. It is used for variable selection and regularization to prevent overfitting in the model. Lasso Regression is distinguished by its penalty term, which is the sum of the absolute values of the regression coefficients multiplied by a regularization parameter (λ).\n",
    "# Key Characteristics of Lasso Regression:\n",
    "# Variable Selection:\n",
    "\n",
    "- Lasso Regression is known for its ability to perform variable selection by setting some coefficients exactly to zero. This makes it particularly useful when dealing with high-dimensional datasets with many features, as it can automatically select the most relevant predictors.\n",
    "# Sparse Solutions:\n",
    "\n",
    "- Due to the L1 penalty term, Lasso tends to produce sparse solutions with only a subset of features having non-zero coefficients. This leads to simpler and more interpretable models.\n",
    "# Shrinks Coefficients Towards Zero:\n",
    "\n",
    "- Lasso introduces a penalty term that is proportional to the absolute values of the coefficients. This has the effect of shrinking some coefficients towards zero, encouraging sparsity and preventing overfitting.\n",
    "# Sensitive to Outliers:\n",
    "\n",
    "- Lasso is sensitive to outliers in the data. Outliers can disproportionately influence the L1 penalty, potentially leading to unexpected behavior.\n",
    "# Differences from Other Regression Techniques:\n",
    "# L1 Regularization:\n",
    "\n",
    "- The key difference lies in the regularization term. Lasso uses L1 regularization, which adds the absolute values of the coefficients, promoting sparsity. In contrast, Ridge Regression uses L2 regularization, which adds the squared values of the coefficients.\n",
    "# Variable Selection:\n",
    "\n",
    "- Lasso performs explicit variable selection by setting some coefficients exactly to zero. Ridge Regression, on the other hand, shrinks coefficients towards zero but rarely to exactly zero, making it less effective for variable selection.\n",
    "# Effect on Coefficient Magnitudes:\n",
    "\n",
    "- Lasso tends to yield sparse models with a small number of non-zero coefficients. Ridge Regression, while shrinking coefficients, retains all predictors in the model.\n",
    "# Handling Multicollinearity:\n",
    "\n",
    "- Both Lasso and Ridge Regression can handle multicollinearity, but they do so in different ways. Lasso may arbitrarily select one variable from a group of highly correlated variables and set the others to zero, while Ridge distributes the impact more evenly.\n",
    "# Use Cases:\n",
    "# Feature Selection:\n",
    "\n",
    "- Lasso is often preferred when feature selection is a priority, and there is a need to identify a subset of the most important predictors.\n",
    "# Sparse Models:\n",
    "\n",
    "- In situations where a sparse model is desired, such as when dealing with high-dimensional datasets, Lasso can be a suitable choice.\n",
    "# Interpretability:\n",
    "\n",
    "- Lasso's ability to set coefficients to exactly zero contributes to model interpretability by providing a more concise set of predictors."
   ]
  },
  {
   "cell_type": "markdown",
   "id": "d435c4f3-4d5e-4fca-81c5-05598a927340",
   "metadata": {},
   "source": [
    "# Q2. What is the main advantage of using Lasso Regression in feature selection?"
   ]
  },
  {
   "cell_type": "markdown",
   "id": "2613ac84-be08-4856-b0de-bab65ea6beee",
   "metadata": {},
   "source": [
    "# Answer-2-The main advantage of using Lasso Regression in feature selection lies in its ability to automatically perform variable selection by setting some coefficients exactly to zero. This property makes Lasso particularly powerful when dealing with high-dimensional datasets with many features. Here are the key advantages of Lasso Regression in feature selection:\n",
    "\n",
    "# 1. Automatic Variable Selection:\n",
    "- Lasso introduces an L1 regularization term to the cost function, which is proportional to the absolute values of the coefficients. As a result, during the optimization process, some coefficients can become exactly zero. This means that Lasso inherently selects a subset of the most relevant features and discards the less informative ones.\n",
    "# 2. Sparse Models:\n",
    "- The feature selection property of Lasso leads to sparse models, where only a subset of the features has non-zero coefficients. Sparse models are advantageous because they are more interpretable and require fewer variables to make predictions. This can be particularly useful when dealing with datasets with a large number of potentially irrelevant features.\n",
    "# 3. Prevents Overfitting:\n",
    "- Lasso Regression's ability to set coefficients to zero not only simplifies the model but also helps prevent overfitting. By removing unnecessary features, Lasso reduces the risk of capturing noise in the data and improves the model's generalization to new, unseen data.\n",
    "# 4. Handling Multicollinearity:\n",
    "- Lasso can effectively handle multicollinearity among predictors by selecting one variable from a group of highly correlated variables and setting the coefficients of the others to zero. This helps in situations where feature redundancy is present.\n",
    "# 5. Interpretability:\n",
    "- The sparsity induced by Lasso enhances the interpretability of the model. With fewer non-zero coefficients, it becomes easier to identify and understand the most influential predictors in the context of the target variable.\n",
    "# 6. Encourages Simplicity:\n",
    "- Lasso promotes simplicity in the model by favoring solutions with fewer features. This aligns with the principle of Occam's razor, which suggests that a simpler model is preferred when two models have similar predictive performance.\n",
    "# Considerations and Limitations:\n",
    "# Sensitivity to Correlated Predictors:\n",
    "\n",
    "- Lasso may arbitrarily select one variable from a group of highly correlated variables and set the coefficients of the others to zero. The selection might not be consistent, and which variable is chosen can depend on small changes in the data.\n",
    "# Influence of Outliers:\n",
    "\n",
    "- Lasso can be sensitive to outliers, and the presence of outliers may influence the sparsity of the model.\n",
    "# Tuning Parameter Selection:\n",
    "\n",
    "- The choice of the regularization parameter (λ) in Lasso is crucial. Cross-validation or other model selection techniques are typically used to find the optimal λ that balances variable selection and model fit."
   ]
  },
  {
   "cell_type": "markdown",
   "id": "33d0be75-a055-436d-ae56-664d19174be1",
   "metadata": {},
   "source": [
    "# Q3. How do you interpret the coefficients of a Lasso Regression model?"
   ]
  },
  {
   "cell_type": "markdown",
   "id": "770de8bd-0250-44c9-ae80-f8a2e02fb7a2",
   "metadata": {},
   "source": [
    "# Answer-3-Interpreting the coefficients of a Lasso Regression model involves understanding the impact of each predictor on the target variable, taking into account the regularization introduced by the L1 penalty. Here are some key points to consider when interpreting the coefficients of a Lasso Regression model:\n",
    "# Key Points for Interpreting Coefficients:\n",
    "# Magnitude of Coefficients:\n",
    "\n",
    "- The magnitude of each coefficient represents the strength of the relationship between the corresponding predictor and the target variable. Larger magnitudes indicate a stronger impact on the predicted outcome.\n",
    "# Variable Selection:\n",
    "\n",
    "- Lasso Regression has the unique property of performing variable selection by setting some coefficients exactly to zero. If a coefficient is zero, it means that the corresponding feature is not contributing to the model, and the feature has effectively been excluded from the prediction.\n",
    "# Sparse Model:\n",
    "\n",
    "- Due to the L1 penalty, Lasso tends to produce sparse models with only a subset of features having non-zero coefficients. Features with non-zero coefficients are considered the most influential in making predictions.\n",
    "# Impact of Regularization Parameter (λ):\n",
    "\n",
    "- The choice of the regularization parameter (λ) influences the degree of shrinkage applied to the coefficients. Larger values of λ result in more aggressive shrinkage, potentially leading to more coefficients being set to zero.\n",
    "# Relative Importance:\n",
    "\n",
    "- Compare the magnitudes of the non-zero coefficients to assess the relative importance of features. Features with larger non-zero coefficients have a greater influence on the predicted outcome.\n",
    "# Considerations:\n",
    "# Scaling of Features:\n",
    "\n",
    "- The interpretation of coefficients is influenced by the scale of the features. Standardizing or normalizing features before applying Lasso Regression can make the coefficients more directly comparable.\n",
    "# Interaction Effects:\n",
    "\n",
    "- Lasso Regression does not naturally capture interaction effects between variables. If interaction terms are relevant, they may need to be explicitly included in the model.\n",
    "# Sparsity and Interpretability:\n",
    "\n",
    "- The sparsity induced by Lasso enhances model interpretability, as features with zero coefficients can be excluded from consideration."
   ]
  },
  {
   "cell_type": "markdown",
   "id": "1ce2a2be-7f6c-4e5b-884e-992ecfa4cd51",
   "metadata": {},
   "source": [
    "# Q4. What are the tuning parameters that can be adjusted in Lasso Regression, and how do they affect the model's performance?"
   ]
  },
  {
   "cell_type": "markdown",
   "id": "71b9143a-2f57-4dc4-8ee1-3eb3375eff00",
   "metadata": {},
   "source": [
    "# Answer-4-In Lasso Regression, the primary tuning parameter is the regularization parameter, often denoted as λ (lambda). The regularization parameter controls the strength of the penalty applied to the absolute values of the coefficients in the L1 regularization term. Adjusting the value of λ has a significant impact on the behavior of the Lasso model. Here's how the tuning parameters affect the performance of Lasso Regression:\n",
    "\n",
    "# Tuning Parameters in Lasso Regression:\n",
    "# Regularization Parameter (λ):\n",
    "- The regularization parameter λ is a non-negative hyperparameter that determines the strength of the penalty applied to the absolute values of the coefficients. A larger λ leads to more aggressive shrinkage and, consequently, more coefficients being set to exactly zero.How λ Affects the Model's #   \n",
    "# Performance:\n",
    "# Strength of Shrinkage:\n",
    "\n",
    "- Small λ: A small λ results in weaker regularization, and the model behaves more like ordinary least squares (OLS) regression. In this case, Lasso tends to retain more features with non-zero coefficients.\n",
    "\n",
    "- Large λ: A large λ leads to stronger regularization, causing more coefficients to be exactly zero. This results in a sparser model with fewer features contributing to the predictions.\n",
    "\n",
    "# Variable Selection:\n",
    "\n",
    "- Small λ: With a small λ, Lasso is less likely to perform aggressive variable selection. It may keep more features with smaller coefficients, even if they contribute marginally to the predictions.\n",
    "\n",
    "- Large λ: As λ increases, Lasso becomes more effective at variable selection. Features with smaller contributions are more likely to have their coefficients set to zero, leading to a simpler and more interpretable model.\n",
    "\n",
    "# Model Complexity:\n",
    "\n",
    "- Small λ: A smaller λ allows the model to capture more complex relationships in the data. This can be beneficial when the goal is to fit the training data closely.\n",
    "\n",
    "- Large λ: A larger λ promotes model simplicity by discouraging the inclusion of less informative features. This can help prevent overfitting, especially in the presence of a large number of features.\n",
    "\n",
    "# Bias-Variance Trade-Off:\n",
    "\n",
    "- Small λ: A smaller λ reduces bias but may increase variance, making the model more prone to overfitting the training data.\n",
    "\n",
    "- Large λ: A larger λ increases bias but reduces variance, leading to a model that generalizes better to new, unseen data.\n",
    "\n",
    "# Selecting the Optimal λ:\n",
    "# Cross-Validation:\n",
    "\n",
    "- Cross-validation, such as k-fold cross-validation, is commonly used to select the optimal λ. The model is trained and evaluated on different subsets of the data, and the λ value that maximizes performance on a validation set is chosen.\n",
    "- Grid Search:A grid search over a range of λ values can be employed to systematically explore the performance of the model with different levels of regularization.\n",
    "# Model Evaluation Metrics:Performance metrics such as mean squared error (MSE), mean absolute error (MAE), or others relevant to the specific problem are used to evaluate the model's performance for different λ values.\n",
    "# Considerations:\n",
    "# Scaling of Features:\n",
    "\n",
    "- The scale of the features can impact the choice of λ. It's common practice to standardize or normalize features before applying Lasso Regression to ensure fair treatment of all predictors.\n",
    "# Outliers:\n",
    "\n",
    "- Lasso can be sensitive to outliers, and the presence of outliers might influence the choice of λ.\n",
    "# Interpretability:\n",
    "\n",
    "- The choice of λ should also consider the trade-off between model interpretability and predictive performance."
   ]
  },
  {
   "cell_type": "markdown",
   "id": "125d0219-7cee-4830-9e19-ee410e1e980f",
   "metadata": {},
   "source": [
    "# Q5. Can Lasso Regression be used for non-linear regression problems? If yes, how?"
   ]
  },
  {
   "cell_type": "markdown",
   "id": "cd4199c6-db7d-45d8-b3e9-765844c98745",
   "metadata": {},
   "source": [
    "# Answer-5-Lasso Regression is inherently a linear regression technique, meaning it models the relationship between the predictors and the target variable as a linear function. However, with appropriate transformations or by incorporating non-linear features, Lasso Regression can be extended to address non-linear regression problems. Here are several approaches to use Lasso Regression for non-linear regression problems:\n",
    "# 1. Feature Engineering:\n",
    "# Polynomial Regression:\n",
    "- Introduce polynomial features by including higher-order terms of the predictors. For example, if you have a predictor X, include and so on. This extends the linear model to capture non-linear relationships.\n",
    "\n",
    "- The Lasso Regression model, even with polynomial features, still has a linear structure with respect to the coefficients."
   ]
  },
  {
   "cell_type": "code",
   "execution_count": 2,
   "id": "ed35706e-d592-4b4d-92cc-d7584209a8ed",
   "metadata": {},
   "outputs": [],
   "source": [
    "from sklearn.preprocessing import PolynomialFeatures\n",
    "from sklearn.linear_model import Lasso\n",
    "from sklearn.pipeline import make_pipeline"
   ]
  },
  {
   "cell_type": "code",
   "execution_count": 3,
   "id": "7d4a8e2f-2688-471d-a951-67a62012bdc0",
   "metadata": {},
   "outputs": [],
   "source": [
    "degree = 2  # Degree of polynomial\n",
    "model = make_pipeline(PolynomialFeatures(degree), Lasso(alpha=0.1))"
   ]
  },
  {
   "cell_type": "markdown",
   "id": "e2fede21-1cb1-4098-bf43-451d5700c68b",
   "metadata": {},
   "source": [
    "# 2. Kernelized Lasso Regression:\n",
    "# Kernel Trick:\n",
    "- Apply a kernel trick to map the original features into a higher-dimensional space, making non-linear relationships more apparent.\n",
    "\n",
    "- Common kernel functions include polynomial kernels and radial basis function (RBF) kernels."
   ]
  },
  {
   "cell_type": "markdown",
   "id": "bf1af020-29a2-4a17-bb9e-9af22010fc54",
   "metadata": {},
   "source": [
    "# 3. Add Interaction Terms:\n",
    "- Include interaction terms between existing features to capture non-linear relationships.\n",
    "\n",
    "- For example, if you have features X1andX2, include X1×X2 as an interaction term.\n",
    "\n",
    "# 4. Apply Lasso on Transformed Targets:\n",
    "- Instead of transforming predictors, consider transforming the target variable. Apply a non-linear transformation to the target and then use Lasso Regression on the transformed target.\n",
    "\n",
    "- Keep in mind that interpreting the results in the original scale may require back-transforming the predictions.\n",
    "\n",
    "# Considerations:\n",
    "# Regularization and Complexity:\n",
    "\n",
    "- Introducing non-linear features increases the complexity of the model. The choice of the regularization parameter (λ) becomes crucial to balance model complexity and overfitting.\n",
    "# Model Evaluation:\n",
    "\n",
    "- Evaluate the model's performance using appropriate metrics for regression tasks, such as mean squared error (MSE) or mean absolute error (MAE).\n",
    "# Feature Scaling:\n",
    "\n",
    "- Ensure proper scaling of features, especially when using Lasso Regression with non-linear features. Standardizing or normalizing features can be beneficial.\n",
    "# Cross-Validation:\n",
    "\n",
    "- Use cross-validation to select optimal hyperparameters and assess the generalization performance of the model."
   ]
  },
  {
   "cell_type": "code",
   "execution_count": 7,
   "id": "9cb838fa-a583-4bff-bd02-78e130885db0",
   "metadata": {},
   "outputs": [],
   "source": [
    "from sklearn.preprocessing import PolynomialFeatures\n",
    "from sklearn.linear_model import Lasso\n",
    "from sklearn.pipeline import make_pipeline\n",
    "from sklearn.model_selection import train_test_split\n",
    "from sklearn.metrics import mean_squared_error\n",
    "import numpy as np"
   ]
  },
  {
   "cell_type": "code",
   "execution_count": 8,
   "id": "ec927915-1428-4f2c-8988-60a5ed134dc1",
   "metadata": {},
   "outputs": [],
   "source": [
    "# Generate synthetic data with a quadratic relationship\n",
    "np.random.seed(42)\n",
    "X = np.sort(5 * np.random.rand(100, 1), axis=0)\n",
    "y = X.squeeze()**2 + np.random.normal(scale=0.5, size=100)"
   ]
  },
  {
   "cell_type": "code",
   "execution_count": 9,
   "id": "51307e73-f0c0-449e-a1d9-042a6fa24eec",
   "metadata": {},
   "outputs": [],
   "source": [
    "# Split the data into training and testing sets\n",
    "X_train, X_test, y_train, y_test = train_test_split(X, y, test_size=0.2, random_state=42)"
   ]
  },
  {
   "cell_type": "code",
   "execution_count": 10,
   "id": "c351489e-fab7-4023-bd28-645c2b5a4200",
   "metadata": {},
   "outputs": [],
   "source": [
    "# Create a pipeline with Polynomial Regression and Lasso Regression\n",
    "degree = 2  # Degree of polynomial\n",
    "model = make_pipeline(PolynomialFeatures(degree), Lasso(alpha=0.1))"
   ]
  },
  {
   "cell_type": "code",
   "execution_count": 11,
   "id": "92947723-bf3d-4810-9de9-8196c651182d",
   "metadata": {},
   "outputs": [
    {
     "data": {
      "text/html": [
       "<style>#sk-container-id-1 {color: black;background-color: white;}#sk-container-id-1 pre{padding: 0;}#sk-container-id-1 div.sk-toggleable {background-color: white;}#sk-container-id-1 label.sk-toggleable__label {cursor: pointer;display: block;width: 100%;margin-bottom: 0;padding: 0.3em;box-sizing: border-box;text-align: center;}#sk-container-id-1 label.sk-toggleable__label-arrow:before {content: \"▸\";float: left;margin-right: 0.25em;color: #696969;}#sk-container-id-1 label.sk-toggleable__label-arrow:hover:before {color: black;}#sk-container-id-1 div.sk-estimator:hover label.sk-toggleable__label-arrow:before {color: black;}#sk-container-id-1 div.sk-toggleable__content {max-height: 0;max-width: 0;overflow: hidden;text-align: left;background-color: #f0f8ff;}#sk-container-id-1 div.sk-toggleable__content pre {margin: 0.2em;color: black;border-radius: 0.25em;background-color: #f0f8ff;}#sk-container-id-1 input.sk-toggleable__control:checked~div.sk-toggleable__content {max-height: 200px;max-width: 100%;overflow: auto;}#sk-container-id-1 input.sk-toggleable__control:checked~label.sk-toggleable__label-arrow:before {content: \"▾\";}#sk-container-id-1 div.sk-estimator input.sk-toggleable__control:checked~label.sk-toggleable__label {background-color: #d4ebff;}#sk-container-id-1 div.sk-label input.sk-toggleable__control:checked~label.sk-toggleable__label {background-color: #d4ebff;}#sk-container-id-1 input.sk-hidden--visually {border: 0;clip: rect(1px 1px 1px 1px);clip: rect(1px, 1px, 1px, 1px);height: 1px;margin: -1px;overflow: hidden;padding: 0;position: absolute;width: 1px;}#sk-container-id-1 div.sk-estimator {font-family: monospace;background-color: #f0f8ff;border: 1px dotted black;border-radius: 0.25em;box-sizing: border-box;margin-bottom: 0.5em;}#sk-container-id-1 div.sk-estimator:hover {background-color: #d4ebff;}#sk-container-id-1 div.sk-parallel-item::after {content: \"\";width: 100%;border-bottom: 1px solid gray;flex-grow: 1;}#sk-container-id-1 div.sk-label:hover label.sk-toggleable__label {background-color: #d4ebff;}#sk-container-id-1 div.sk-serial::before {content: \"\";position: absolute;border-left: 1px solid gray;box-sizing: border-box;top: 0;bottom: 0;left: 50%;z-index: 0;}#sk-container-id-1 div.sk-serial {display: flex;flex-direction: column;align-items: center;background-color: white;padding-right: 0.2em;padding-left: 0.2em;position: relative;}#sk-container-id-1 div.sk-item {position: relative;z-index: 1;}#sk-container-id-1 div.sk-parallel {display: flex;align-items: stretch;justify-content: center;background-color: white;position: relative;}#sk-container-id-1 div.sk-item::before, #sk-container-id-1 div.sk-parallel-item::before {content: \"\";position: absolute;border-left: 1px solid gray;box-sizing: border-box;top: 0;bottom: 0;left: 50%;z-index: -1;}#sk-container-id-1 div.sk-parallel-item {display: flex;flex-direction: column;z-index: 1;position: relative;background-color: white;}#sk-container-id-1 div.sk-parallel-item:first-child::after {align-self: flex-end;width: 50%;}#sk-container-id-1 div.sk-parallel-item:last-child::after {align-self: flex-start;width: 50%;}#sk-container-id-1 div.sk-parallel-item:only-child::after {width: 0;}#sk-container-id-1 div.sk-dashed-wrapped {border: 1px dashed gray;margin: 0 0.4em 0.5em 0.4em;box-sizing: border-box;padding-bottom: 0.4em;background-color: white;}#sk-container-id-1 div.sk-label label {font-family: monospace;font-weight: bold;display: inline-block;line-height: 1.2em;}#sk-container-id-1 div.sk-label-container {text-align: center;}#sk-container-id-1 div.sk-container {/* jupyter's `normalize.less` sets `[hidden] { display: none; }` but bootstrap.min.css set `[hidden] { display: none !important; }` so we also need the `!important` here to be able to override the default hidden behavior on the sphinx rendered scikit-learn.org. See: https://github.com/scikit-learn/scikit-learn/issues/21755 */display: inline-block !important;position: relative;}#sk-container-id-1 div.sk-text-repr-fallback {display: none;}</style><div id=\"sk-container-id-1\" class=\"sk-top-container\"><div class=\"sk-text-repr-fallback\"><pre>Pipeline(steps=[(&#x27;polynomialfeatures&#x27;, PolynomialFeatures()),\n",
       "                (&#x27;lasso&#x27;, Lasso(alpha=0.1))])</pre><b>In a Jupyter environment, please rerun this cell to show the HTML representation or trust the notebook. <br />On GitHub, the HTML representation is unable to render, please try loading this page with nbviewer.org.</b></div><div class=\"sk-container\" hidden><div class=\"sk-item sk-dashed-wrapped\"><div class=\"sk-label-container\"><div class=\"sk-label sk-toggleable\"><input class=\"sk-toggleable__control sk-hidden--visually\" id=\"sk-estimator-id-1\" type=\"checkbox\" ><label for=\"sk-estimator-id-1\" class=\"sk-toggleable__label sk-toggleable__label-arrow\">Pipeline</label><div class=\"sk-toggleable__content\"><pre>Pipeline(steps=[(&#x27;polynomialfeatures&#x27;, PolynomialFeatures()),\n",
       "                (&#x27;lasso&#x27;, Lasso(alpha=0.1))])</pre></div></div></div><div class=\"sk-serial\"><div class=\"sk-item\"><div class=\"sk-estimator sk-toggleable\"><input class=\"sk-toggleable__control sk-hidden--visually\" id=\"sk-estimator-id-2\" type=\"checkbox\" ><label for=\"sk-estimator-id-2\" class=\"sk-toggleable__label sk-toggleable__label-arrow\">PolynomialFeatures</label><div class=\"sk-toggleable__content\"><pre>PolynomialFeatures()</pre></div></div></div><div class=\"sk-item\"><div class=\"sk-estimator sk-toggleable\"><input class=\"sk-toggleable__control sk-hidden--visually\" id=\"sk-estimator-id-3\" type=\"checkbox\" ><label for=\"sk-estimator-id-3\" class=\"sk-toggleable__label sk-toggleable__label-arrow\">Lasso</label><div class=\"sk-toggleable__content\"><pre>Lasso(alpha=0.1)</pre></div></div></div></div></div></div></div>"
      ],
      "text/plain": [
       "Pipeline(steps=[('polynomialfeatures', PolynomialFeatures()),\n",
       "                ('lasso', Lasso(alpha=0.1))])"
      ]
     },
     "execution_count": 11,
     "metadata": {},
     "output_type": "execute_result"
    }
   ],
   "source": [
    "# Fit the model on the training data\n",
    "model.fit(X_train, y_train)"
   ]
  },
  {
   "cell_type": "code",
   "execution_count": 12,
   "id": "8c045549-1b9f-4fdc-b2b6-e4329570bf3b",
   "metadata": {},
   "outputs": [],
   "source": [
    "# Make predictions on the test data\n",
    "y_pred = model.predict(X_test)"
   ]
  },
  {
   "cell_type": "code",
   "execution_count": 13,
   "id": "4a885246-e321-4cc8-aadb-d745386ea4e6",
   "metadata": {},
   "outputs": [
    {
     "name": "stdout",
     "output_type": "stream",
     "text": [
      "Mean Squared Error: 0.17158940350952379\n"
     ]
    }
   ],
   "source": [
    "# Evaluate the model\n",
    "mse = mean_squared_error(y_test, y_pred)\n",
    "print(f'Mean Squared Error: {mse}')"
   ]
  },
  {
   "cell_type": "markdown",
   "id": "20fa2a90-7766-47a6-a361-d0ebbb38c409",
   "metadata": {},
   "source": [
    "# Q6. What is the difference between Ridge Regression and Lasso Regression?"
   ]
  },
  {
   "cell_type": "markdown",
   "id": "862f9da6-cafd-4b42-a7ec-c146d05df6f6",
   "metadata": {
    "tags": []
   },
   "source": [
    "# Answer-6-Ridge Regression and Lasso Regression are both regularization techniques used in linear regression to prevent overfitting and handle multicollinearity, but they differ in the type of regularization applied and the impact on the model. Here are the key differences between Ridge Regression and Lasso Regression:\n",
    "\n",
    "# 1. Regularization Term:\n",
    "# Ridge Regression:\n",
    "\n",
    "- Uses L2 regularization, which adds the sum of squared coefficients (squared L2 norm) to the cost function.\n",
    "- The regularization term penalizes the squared magnitude of the coefficients.\n",
    "\n",
    "# Lasso Regression:\n",
    "\n",
    "- Uses L1 regularization, which adds the sum of the absolute values of the coefficients (L1 norm) to the cost function.\n",
    "\n",
    "- The regularization term penalizes the absolute magnitude of the coefficients.\n",
    "\n",
    "# 2. Coefficient Shrinkage:\n",
    "# Ridge Regression:\n",
    "\n",
    "- The L2 penalty encourages small coefficients but does not typically set them exactly to zero. It shrinks all coefficients towards zero proportionally, preventing extreme values.\n",
    "\n",
    "- Ridge Regression is effective for dealing with multicollinearity and can handle situations where many predictors are relevant.\n",
    "\n",
    "# Lasso Regression:\n",
    "\n",
    "- The L1 penalty promotes sparsity by setting some coefficients exactly to zero. It performs automatic variable selection and produces sparse models with fewer non-zero coefficients.\n",
    "\n",
    "- Lasso is particularly useful when there is a need to identify and focus on the most important predictors, leading to a simpler and more interpretable model.\n",
    "\n",
    "# 3. Feature Selection:\n",
    "# Ridge Regression:\n",
    "\n",
    "- Does not perform variable selection in the sense of setting coefficients exactly to zero. It shrinks coefficients but retains all predictors in the model.\n",
    "\n",
    "- Ridge is suitable when all predictors are considered relevant, and the goal is more about regularization than variable selection.\n",
    "\n",
    "# Lasso Regression:\n",
    "\n",
    "- Performs explicit variable selection by setting some coefficients exactly to zero. It automatically identifies and excludes less informative features.\n",
    "\n",
    "- Lasso is beneficial when there is a desire to simplify the model by focusing on a subset of the most relevant predictors.\n",
    "\n",
    "# 4. Influence on Multicollinearity:\n",
    "# Ridge Regression:\n",
    "\n",
    "- Mitigates the impact of multicollinearity by distributing the importance of correlated predictors more evenly across coefficients.\n",
    "\n",
    "- Suitable when there are strong correlations between predictors and avoiding extreme coefficient values is desired.\n",
    "\n",
    "# Lasso Regression:\n",
    "\n",
    "- Can arbitrarily select one variable from a group of highly correlated variables and set the coefficients of the others to zero.\n",
    "\n",
    "- May not distribute the impact of correlated predictors as evenly as Ridge, and the selection may depend on small changes in the data."
   ]
  },
  {
   "cell_type": "markdown",
   "id": "d6e6ce1b-3ea0-4906-a719-1e1b7c7a6298",
   "metadata": {},
   "source": [
    "# Q7. Can Lasso Regression handle multicollinearity in the input features? If yes, how?"
   ]
  },
  {
   "cell_type": "markdown",
   "id": "f895face-3a3c-4ae8-a4f2-6955c1178f0e",
   "metadata": {},
   "source": [
    "# Answer-7-Yes, Lasso Regression has the capability to handle multicollinearity in the input features. Multicollinearity occurs when two or more independent variables in a regression model are highly correlated, which can cause issues in estimating the individual contributions of these variables. Lasso Regression addresses multicollinearity through its L1 regularization term, and its mechanism for handling multicollinearity is distinct from other regression techniques.\n",
    "\n",
    "# Here's how Lasso Regression handles multicollinearity:\n",
    "\n",
    "# 1. Variable Selection:\n",
    "- Sparse Solutions: Lasso Regression tends to produce sparse solutions by setting the coefficients of some features exactly to zero. In the presence of multicollinearity, Lasso can identify and select only one variable from a group of highly correlated variables while setting the coefficients of the others to zero.\n",
    "\n",
    "- Automatic Feature Selection: The L1 penalty in Lasso encourages sparsity, leading to the automatic selection of a subset of the most relevant features. This property is particularly useful when dealing with datasets with a large number of potentially correlated predictors.\n",
    "\n",
    "# 2. Shrinkage of Coefficients:\n",
    "- Shrinkage Towards Zero: The L1 penalty in Lasso shrinks the coefficients towards zero. For variables that are less relevant or highly correlated with other predictors, Lasso tends to reduce their impact by setting their coefficients to zero.\n",
    "\n",
    "- Magnitude of Shrinkage: The amount of shrinkage depends on the strength of the regularization parameter (λ). Larger values of λ lead to more aggressive shrinkage and a sparser model.\n",
    "\n",
    "# 3. Grouping Effect:\n",
    "- Grouping Effect on Correlated Variables: Lasso has a grouping effect, meaning that correlated variables often share the fate of having their coefficients either all set to zero or all retained in the model. The specific outcome can depend on the data and the optimization process.\n",
    "# Example in Python:"
   ]
  },
  {
   "cell_type": "code",
   "execution_count": 14,
   "id": "e9df7fe3-3455-4a0c-98ce-bfa948ca0312",
   "metadata": {},
   "outputs": [],
   "source": [
    "from sklearn.linear_model import Lasso\n",
    "from sklearn.datasets import make_regression\n",
    "import matplotlib.pyplot as plt"
   ]
  },
  {
   "cell_type": "code",
   "execution_count": 15,
   "id": "aeb9885c-bf67-4d8d-8ba4-1b23aefacd46",
   "metadata": {},
   "outputs": [],
   "source": [
    "X, y = make_regression(n_samples=100, n_features=2, noise=10, random_state=42)"
   ]
  },
  {
   "cell_type": "code",
   "execution_count": 16,
   "id": "d3f19994-555a-4d02-910a-81b67dd96e6f",
   "metadata": {},
   "outputs": [],
   "source": [
    "X[:, 1] = 2 * X[:, 0] + 0.5 * X[:, 1]"
   ]
  },
  {
   "cell_type": "code",
   "execution_count": 17,
   "id": "64c228b6-a767-4ec1-9c7b-4d6d95641c79",
   "metadata": {},
   "outputs": [
    {
     "data": {
      "text/html": [
       "<style>#sk-container-id-2 {color: black;background-color: white;}#sk-container-id-2 pre{padding: 0;}#sk-container-id-2 div.sk-toggleable {background-color: white;}#sk-container-id-2 label.sk-toggleable__label {cursor: pointer;display: block;width: 100%;margin-bottom: 0;padding: 0.3em;box-sizing: border-box;text-align: center;}#sk-container-id-2 label.sk-toggleable__label-arrow:before {content: \"▸\";float: left;margin-right: 0.25em;color: #696969;}#sk-container-id-2 label.sk-toggleable__label-arrow:hover:before {color: black;}#sk-container-id-2 div.sk-estimator:hover label.sk-toggleable__label-arrow:before {color: black;}#sk-container-id-2 div.sk-toggleable__content {max-height: 0;max-width: 0;overflow: hidden;text-align: left;background-color: #f0f8ff;}#sk-container-id-2 div.sk-toggleable__content pre {margin: 0.2em;color: black;border-radius: 0.25em;background-color: #f0f8ff;}#sk-container-id-2 input.sk-toggleable__control:checked~div.sk-toggleable__content {max-height: 200px;max-width: 100%;overflow: auto;}#sk-container-id-2 input.sk-toggleable__control:checked~label.sk-toggleable__label-arrow:before {content: \"▾\";}#sk-container-id-2 div.sk-estimator input.sk-toggleable__control:checked~label.sk-toggleable__label {background-color: #d4ebff;}#sk-container-id-2 div.sk-label input.sk-toggleable__control:checked~label.sk-toggleable__label {background-color: #d4ebff;}#sk-container-id-2 input.sk-hidden--visually {border: 0;clip: rect(1px 1px 1px 1px);clip: rect(1px, 1px, 1px, 1px);height: 1px;margin: -1px;overflow: hidden;padding: 0;position: absolute;width: 1px;}#sk-container-id-2 div.sk-estimator {font-family: monospace;background-color: #f0f8ff;border: 1px dotted black;border-radius: 0.25em;box-sizing: border-box;margin-bottom: 0.5em;}#sk-container-id-2 div.sk-estimator:hover {background-color: #d4ebff;}#sk-container-id-2 div.sk-parallel-item::after {content: \"\";width: 100%;border-bottom: 1px solid gray;flex-grow: 1;}#sk-container-id-2 div.sk-label:hover label.sk-toggleable__label {background-color: #d4ebff;}#sk-container-id-2 div.sk-serial::before {content: \"\";position: absolute;border-left: 1px solid gray;box-sizing: border-box;top: 0;bottom: 0;left: 50%;z-index: 0;}#sk-container-id-2 div.sk-serial {display: flex;flex-direction: column;align-items: center;background-color: white;padding-right: 0.2em;padding-left: 0.2em;position: relative;}#sk-container-id-2 div.sk-item {position: relative;z-index: 1;}#sk-container-id-2 div.sk-parallel {display: flex;align-items: stretch;justify-content: center;background-color: white;position: relative;}#sk-container-id-2 div.sk-item::before, #sk-container-id-2 div.sk-parallel-item::before {content: \"\";position: absolute;border-left: 1px solid gray;box-sizing: border-box;top: 0;bottom: 0;left: 50%;z-index: -1;}#sk-container-id-2 div.sk-parallel-item {display: flex;flex-direction: column;z-index: 1;position: relative;background-color: white;}#sk-container-id-2 div.sk-parallel-item:first-child::after {align-self: flex-end;width: 50%;}#sk-container-id-2 div.sk-parallel-item:last-child::after {align-self: flex-start;width: 50%;}#sk-container-id-2 div.sk-parallel-item:only-child::after {width: 0;}#sk-container-id-2 div.sk-dashed-wrapped {border: 1px dashed gray;margin: 0 0.4em 0.5em 0.4em;box-sizing: border-box;padding-bottom: 0.4em;background-color: white;}#sk-container-id-2 div.sk-label label {font-family: monospace;font-weight: bold;display: inline-block;line-height: 1.2em;}#sk-container-id-2 div.sk-label-container {text-align: center;}#sk-container-id-2 div.sk-container {/* jupyter's `normalize.less` sets `[hidden] { display: none; }` but bootstrap.min.css set `[hidden] { display: none !important; }` so we also need the `!important` here to be able to override the default hidden behavior on the sphinx rendered scikit-learn.org. See: https://github.com/scikit-learn/scikit-learn/issues/21755 */display: inline-block !important;position: relative;}#sk-container-id-2 div.sk-text-repr-fallback {display: none;}</style><div id=\"sk-container-id-2\" class=\"sk-top-container\"><div class=\"sk-text-repr-fallback\"><pre>Lasso()</pre><b>In a Jupyter environment, please rerun this cell to show the HTML representation or trust the notebook. <br />On GitHub, the HTML representation is unable to render, please try loading this page with nbviewer.org.</b></div><div class=\"sk-container\" hidden><div class=\"sk-item\"><div class=\"sk-estimator sk-toggleable\"><input class=\"sk-toggleable__control sk-hidden--visually\" id=\"sk-estimator-id-4\" type=\"checkbox\" checked><label for=\"sk-estimator-id-4\" class=\"sk-toggleable__label sk-toggleable__label-arrow\">Lasso</label><div class=\"sk-toggleable__content\"><pre>Lasso()</pre></div></div></div></div></div>"
      ],
      "text/plain": [
       "Lasso()"
      ]
     },
     "execution_count": 17,
     "metadata": {},
     "output_type": "execute_result"
    }
   ],
   "source": [
    "# Fit Lasso Regression model\n",
    "lasso = Lasso(alpha=1.0)  # Adjust alpha as needed\n",
    "lasso.fit(X, y)"
   ]
  },
  {
   "cell_type": "code",
   "execution_count": 18,
   "id": "339db6d3-d693-49d5-b6e6-90ed1fd02f73",
   "metadata": {},
   "outputs": [
    {
     "name": "stdout",
     "output_type": "stream",
     "text": [
      "Coefficients: [-184.2410986   135.93190063]\n"
     ]
    }
   ],
   "source": [
    "print(\"Coefficients:\", lasso.coef_)"
   ]
  },
  {
   "cell_type": "code",
   "execution_count": 19,
   "id": "b2edb59d-d906-4c7c-8047-b823e8c1079c",
   "metadata": {},
   "outputs": [
    {
     "data": {
      "image/png": "[encoded data removed]",
      "text/plain": [
       "<Figure size 640x480 with 1 Axes>"
      ]
     },
     "metadata": {},
     "output_type": "display_data"
    }
   ],
   "source": [
    "# Plot the coefficients\n",
    "plt.bar(range(1, 3), lasso.coef_)\n",
    "plt.xticks(range(1, 3), ['Feature 1', 'Feature 2'])\n",
    "plt.xlabel('Features')\n",
    "plt.ylabel('Coefficients')\n",
    "plt.title('Lasso Regression Coefficients')\n",
    "plt.show()"
   ]
  },
  {
   "cell_type": "markdown",
   "id": "959d28f2-aa90-487b-9c57-895f285ab540",
   "metadata": {},
   "source": [
    "# Q8. How do you choose the optimal value of the regularization parameter (lambda) in Lasso Regression?"
   ]
  },
  {
   "cell_type": "markdown",
   "id": "76f578d0-8061-4653-87c4-89e0c5e85a13",
   "metadata": {},
   "source": [
    "# Answer-8-Choosing the optimal value of the regularization parameter (λ) in Lasso Regression is a critical step in achieving a balance between model fit and regularization. The process typically involves using techniques such as cross-validation to evaluate the model's performance over a range of λ values. Here's a step-by-step guide on how to choose the optimal λ in Lasso Regression:\n",
    "#  Define a Range of λ Values:\n",
    "- Grid Search: Define a set of potential λ values that span a range of magnitudes. A common approach is to use a logarithmic scale to explore a broad range of values."
   ]
  },
  {
   "cell_type": "code",
   "execution_count": 20,
   "id": "4fed6db7-09d6-4efb-bb00-72f6f43092f1",
   "metadata": {},
   "outputs": [],
   "source": [
    "import numpy as np"
   ]
  },
  {
   "cell_type": "code",
   "execution_count": 21,
   "id": "9e9c76d7-3080-4fcd-9ad4-550864b7d20f",
   "metadata": {},
   "outputs": [],
   "source": [
    "# Define a range of lambda values (alphas)\n",
    "alphas = np.logspace(-4, 2, 100)"
   ]
  },
  {
   "cell_type": "markdown",
   "id": "9cc26486-faef-4f67-91cb-037e1aed14e3",
   "metadata": {},
   "source": [
    "# 2. Use Cross-Validation:\n",
    "- K-Fold Cross-Validation: Split the dataset into k folds (e.g.,k=5 or k=10). Train and evaluate the model k times, each time using a different fold as the validation set and the remaining folds as the training set."
   ]
  },
  {
   "cell_type": "code",
   "execution_count": 22,
   "id": "86f01b49-302c-4938-94cc-f0a277a7dbc9",
   "metadata": {},
   "outputs": [],
   "source": [
    "from sklearn.model_selection import cross_val_score\n",
    "\n",
    "cv_scores = []\n",
    "\n",
    "for alpha in alphas:\n",
    "    lasso = Lasso(alpha=alpha)\n",
    "    scores = cross_val_score(lasso, X, y, cv=5, scoring='neg_mean_squared_error')\n",
    "    cv_scores.append(-np.mean(scores))  # Convert negative MSE to positive"
   ]
  },
  {
   "cell_type": "markdown",
   "id": "2702e0c4-feed-4724-82a5-29420f455c2d",
   "metadata": {},
   "source": [
    "# 3. Select the Optimal λ:\n",
    "- Identify the Minimum Cross-Validation Error: Choose the λ value that corresponds to the minimum average cross-validation error."
   ]
  },
  {
   "cell_type": "code",
   "execution_count": 23,
   "id": "48146c85-abc0-47e6-b9fb-4278e14dd248",
   "metadata": {},
   "outputs": [
    {
     "name": "stdout",
     "output_type": "stream",
     "text": [
      "Optimal Alpha: 0.0001\n"
     ]
    }
   ],
   "source": [
    "optimal_alpha = alphas[np.argmin(cv_scores)]\n",
    "print(\"Optimal Alpha:\", optimal_alpha)"
   ]
  },
  {
   "cell_type": "markdown",
   "id": "b0ef3588-ea76-4d8b-800e-05978bee2594",
   "metadata": {},
   "source": [
    "# 4. Visualize the Cross-Validation Results:\n",
    "- Plot the Cross-Validation Errors: Visualize how the cross-validation error changes with different λ values. This helps in identifying the region where the model performs well without overfitting"
   ]
  },
  {
   "cell_type": "code",
   "execution_count": 24,
   "id": "911f86ef-6599-4f09-bab8-e210b02ac1cd",
   "metadata": {},
   "outputs": [
    {
     "data": {
      "image/png": "[encoded data removed]",
      "text/plain": [
       "<Figure size 640x480 with 1 Axes>"
      ]
     },
     "metadata": {},
     "output_type": "display_data"
    }
   ],
   "source": [
    "import matplotlib.pyplot as plt\n",
    "\n",
    "# Plot cross-validation errors\n",
    "plt.plot(alphas, cv_scores)\n",
    "plt.xscale('log')  # Use a logarithmic scale for better visualization\n",
    "plt.xlabel('Alpha (Lambda)')\n",
    "plt.ylabel('Cross-Validation Error')\n",
    "plt.title('Cross-Validation Error vs. Lambda')\n",
    "plt.show()"
   ]
  },
  {
   "cell_type": "markdown",
   "id": "a9c7743c-452f-4cd3-91f0-b459c73301cd",
   "metadata": {},
   "source": [
    "# 5. Fit the Final Model:\n",
    "- Train the Final Model: Once the optimal λ is identified, train the Lasso Regression model using the entire dataset with the chosen λ value."
   ]
  },
  {
   "cell_type": "code",
   "execution_count": 25,
   "id": "b5ebe65b-f431-46e3-97cf-df789003479e",
   "metadata": {},
   "outputs": [
    {
     "data": {
      "text/html": [
       "<style>#sk-container-id-3 {color: black;background-color: white;}#sk-container-id-3 pre{padding: 0;}#sk-container-id-3 div.sk-toggleable {background-color: white;}#sk-container-id-3 label.sk-toggleable__label {cursor: pointer;display: block;width: 100%;margin-bottom: 0;padding: 0.3em;box-sizing: border-box;text-align: center;}#sk-container-id-3 label.sk-toggleable__label-arrow:before {content: \"▸\";float: left;margin-right: 0.25em;color: #696969;}#sk-container-id-3 label.sk-toggleable__label-arrow:hover:before {color: black;}#sk-container-id-3 div.sk-estimator:hover label.sk-toggleable__label-arrow:before {color: black;}#sk-container-id-3 div.sk-toggleable__content {max-height: 0;max-width: 0;overflow: hidden;text-align: left;background-color: #f0f8ff;}#sk-container-id-3 div.sk-toggleable__content pre {margin: 0.2em;color: black;border-radius: 0.25em;background-color: #f0f8ff;}#sk-container-id-3 input.sk-toggleable__control:checked~div.sk-toggleable__content {max-height: 200px;max-width: 100%;overflow: auto;}#sk-container-id-3 input.sk-toggleable__control:checked~label.sk-toggleable__label-arrow:before {content: \"▾\";}#sk-container-id-3 div.sk-estimator input.sk-toggleable__control:checked~label.sk-toggleable__label {background-color: #d4ebff;}#sk-container-id-3 div.sk-label input.sk-toggleable__control:checked~label.sk-toggleable__label {background-color: #d4ebff;}#sk-container-id-3 input.sk-hidden--visually {border: 0;clip: rect(1px 1px 1px 1px);clip: rect(1px, 1px, 1px, 1px);height: 1px;margin: -1px;overflow: hidden;padding: 0;position: absolute;width: 1px;}#sk-container-id-3 div.sk-estimator {font-family: monospace;background-color: #f0f8ff;border: 1px dotted black;border-radius: 0.25em;box-sizing: border-box;margin-bottom: 0.5em;}#sk-container-id-3 div.sk-estimator:hover {background-color: #d4ebff;}#sk-container-id-3 div.sk-parallel-item::after {content: \"\";width: 100%;border-bottom: 1px solid gray;flex-grow: 1;}#sk-container-id-3 div.sk-label:hover label.sk-toggleable__label {background-color: #d4ebff;}#sk-container-id-3 div.sk-serial::before {content: \"\";position: absolute;border-left: 1px solid gray;box-sizing: border-box;top: 0;bottom: 0;left: 50%;z-index: 0;}#sk-container-id-3 div.sk-serial {display: flex;flex-direction: column;align-items: center;background-color: white;padding-right: 0.2em;padding-left: 0.2em;position: relative;}#sk-container-id-3 div.sk-item {position: relative;z-index: 1;}#sk-container-id-3 div.sk-parallel {display: flex;align-items: stretch;justify-content: center;background-color: white;position: relative;}#sk-container-id-3 div.sk-item::before, #sk-container-id-3 div.sk-parallel-item::before {content: \"\";position: absolute;border-left: 1px solid gray;box-sizing: border-box;top: 0;bottom: 0;left: 50%;z-index: -1;}#sk-container-id-3 div.sk-parallel-item {display: flex;flex-direction: column;z-index: 1;position: relative;background-color: white;}#sk-container-id-3 div.sk-parallel-item:first-child::after {align-self: flex-end;width: 50%;}#sk-container-id-3 div.sk-parallel-item:last-child::after {align-self: flex-start;width: 50%;}#sk-container-id-3 div.sk-parallel-item:only-child::after {width: 0;}#sk-container-id-3 div.sk-dashed-wrapped {border: 1px dashed gray;margin: 0 0.4em 0.5em 0.4em;box-sizing: border-box;padding-bottom: 0.4em;background-color: white;}#sk-container-id-3 div.sk-label label {font-family: monospace;font-weight: bold;display: inline-block;line-height: 1.2em;}#sk-container-id-3 div.sk-label-container {text-align: center;}#sk-container-id-3 div.sk-container {/* jupyter's `normalize.less` sets `[hidden] { display: none; }` but bootstrap.min.css set `[hidden] { display: none !important; }` so we also need the `!important` here to be able to override the default hidden behavior on the sphinx rendered scikit-learn.org. See: https://github.com/scikit-learn/scikit-learn/issues/21755 */display: inline-block !important;position: relative;}#sk-container-id-3 div.sk-text-repr-fallback {display: none;}</style><div id=\"sk-container-id-3\" class=\"sk-top-container\"><div class=\"sk-text-repr-fallback\"><pre>Lasso(alpha=0.0001)</pre><b>In a Jupyter environment, please rerun this cell to show the HTML representation or trust the notebook. <br />On GitHub, the HTML representation is unable to render, please try loading this page with nbviewer.org.</b></div><div class=\"sk-container\" hidden><div class=\"sk-item\"><div class=\"sk-estimator sk-toggleable\"><input class=\"sk-toggleable__control sk-hidden--visually\" id=\"sk-estimator-id-5\" type=\"checkbox\" checked><label for=\"sk-estimator-id-5\" class=\"sk-toggleable__label sk-toggleable__label-arrow\">Lasso</label><div class=\"sk-toggleable__content\"><pre>Lasso(alpha=0.0001)</pre></div></div></div></div></div>"
      ],
      "text/plain": [
       "Lasso(alpha=0.0001)"
      ]
     },
     "execution_count": 25,
     "metadata": {},
     "output_type": "execute_result"
    }
   ],
   "source": [
    "lasso_final = Lasso(alpha=optimal_alpha)\n",
    "lasso_final.fit(X, y)"
   ]
  },
  {
   "cell_type": "markdown",
   "id": "cf74864f-532a-4939-ab04-58b5618c4f15",
   "metadata": {},
   "source": [
    "# Additional Considerations:\n",
    "- Nested Cross-Validation: For more robust model evaluation, consider using nested cross-validation. In this approach, an outer loop performs model selection, and an inner loop performs model evaluation.\n",
    "\n",
    "- Evaluation Metric: Choose an appropriate evaluation metric for cross-validation, such as mean squared error (MSE) or mean absolute error (MAE), depending on the specific problem.\n",
    "\n",
    "- Standardization: It is often beneficial to standardize or normalize the features before applying Lasso Regression, especially when the features are on different scales.\n",
    "\n",
    "- Regularization Path: Some libraries provide tools to visualize the regularization path, showing how coefficients change across different λ values."
   ]
  },
  {
   "cell_type": "code",
   "execution_count": 26,
   "id": "877cd722-03b8-4e1f-bab6-eb2201359690",
   "metadata": {},
   "outputs": [
    {
     "data": {
      "image/png": "[encoded data removed]",
      "text/plain": [
       "<Figure size 1200x800 with 1 Axes>"
      ]
     },
     "metadata": {},
     "output_type": "display_data"
    }
   ],
   "source": [
    "from sklearn.linear_model import lasso_path\n",
    "\n",
    "alphas_lasso, coefs_lasso, _ = lasso_path(X, y, alphas=alphas)\n",
    "neg_log_alphas_lasso = -np.log10(alphas_lasso)\n",
    "\n",
    "plt.figure(figsize=(12, 8))\n",
    "plt.plot(neg_log_alphas_lasso, coefs_lasso.T)\n",
    "plt.xlabel('-Log(alpha)')\n",
    "plt.ylabel('coefficients')\n",
    "plt.title('Lasso paths - Regularization Path')\n",
    "plt.legend(['Feature 1', 'Feature 2'])\n",
    "plt.show()"
   ]
  },
  {
   "cell_type": "markdown",
   "id": "2fc905c9-24a3-453a-841c-0f834e52a0d9",
   "metadata": {},
   "source": [
    "# Completed Assignment"
   ]
  }
 ],
 "metadata": {
  "kernelspec": {
   "display_name": "Python 3 (ipykernel)",
   "language": "python",
   "name": "python3"
  },
  "language_info": {
   "codemirror_mode": {
    "name": "ipython",
    "version": 3
   },
   "file_extension": ".py",
   "mimetype": "text/x-python",
   "name": "python",
   "nbconvert_exporter": "python",
   "pygments_lexer": "ipython3",
   "version": "3.10.8"
  }
 },
 "nbformat": 4,
 "nbformat_minor": 5
}
